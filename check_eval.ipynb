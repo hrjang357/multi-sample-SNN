{
 "cells": [
  {
   "cell_type": "code",
   "execution_count": 1,
   "metadata": {},
   "outputs": [],
   "source": [
    "from __future__ import print_function\n",
    "import torch\n",
    "import torch.nn as nn\n",
    "import torch.nn.functional as F\n",
    "from SNN import SNNetwork\n",
    "from utils.training_multi_utils import *\n",
    "from utils.training_utils import *\n",
    "from utils.inference_utils import *\n",
    "from plot_snn.eval import *\n",
    "import time\n",
    "import numpy as np\n",
    "import tables\n",
    "import math\n",
    "import argparse\n",
    "import os\n",
    "import matplotlib.pyplot as plt\n",
    "import pdb\n",
    "from torch.utils.tensorboard import SummaryWriter\n",
    "import datetime\n",
    "import scipy.misc\n",
    "from scipy import ndimage"
   ]
  },
  {
   "cell_type": "code",
   "execution_count": 2,
   "metadata": {},
   "outputs": [],
   "source": [
    "# task-prediction_digits-5_ex-single_dec-single_eptrain-5_eptest-3_mode-iw_niter-1\n",
    "# _Nh-2_Nk-5_lr-0.05_lrconst-1.0_kappa-0.05_Nb-3_nll-5_time-03260001_t-400.pth\n",
    "\n",
    "task = 'prediction'\n",
    "digits_ = 2\n",
    "train_indices_mode = 'single'\n",
    "dec_type = 'single'\n",
    "epochs = 5\n",
    "epochs_test = 3\n",
    "mode_ = 'iw'\n",
    "niter = 1\n",
    "n_hidden_neurons = 2\n",
    "num_samples = 5\n",
    "learning_rate = 0.05\n",
    "lr_const = 1.0\n",
    "kappa = 0.05\n",
    "n_basis = 3\n",
    "num_ll_est = 5\n",
    "current_time = '03260002'\n",
    "time_range = ['03260000', '03262359']\n",
    "timestep = [80, 160, 240, 320, 400]\n",
    "\n",
    "\n",
    "query_hprof_t = { \n",
    "'task': str(task),\n",
    "'digits': str(digits_),\n",
    "'ex': str(train_indices_mode),\n",
    "'dec': str(dec_type),\n",
    "'eptrain': str(epochs),\n",
    "'eptest': str(epochs_test),\n",
    "'mode': str(mode_),\n",
    "'Nh': str(n_hidden_neurons),\n",
    "'Nk': str(num_samples),\n",
    "'lr': str(learning_rate),\n",
    "'lrconst': str(lr_const),\n",
    "'kappa': str(kappa),\n",
    "'Nb': str(n_basis),\n",
    "'nll': str(num_ll_est),\n",
    "'time': str(current_time)\n",
    "}\n",
    "\n",
    "query_hprof_Nk = { \n",
    "'task': str(task),\n",
    "'digits': str(digits_),\n",
    "'ex': str(train_indices_mode),\n",
    "'dec': str(dec_type),\n",
    "'eptrain': str(epochs),\n",
    "'eptest': str(epochs_test),\n",
    "'mode': str(mode_),\n",
    "'Nh': str(n_hidden_neurons),\n",
    "'Nk': str(num_samples),\n",
    "'lr': str(learning_rate),\n",
    "'lrconst': str(lr_const),\n",
    "'kappa': str(kappa),\n",
    "'Nb': str(n_basis),\n",
    "'nll': str(num_ll_est),\n",
    "'time': str(current_time)\n",
    "}\n",
    "\n",
    "# sweep_mode \n",
    "sweep_t = {'hyperparam': 't', 'value': timestep}\n",
    "sweep_Nk = {'hyperparam':'Nk','value': [1,5]}\n",
    "\n",
    "# Inference on Training dataset\n",
    "inference_metrics = ['loss_bound', 'distance_avg']\n"
   ]
  },
  {
   "cell_type": "code",
   "execution_count": 3,
   "metadata": {},
   "outputs": [],
   "source": [
    "# random seed \n",
    "torch.manual_seed(1)\n",
    "np.random.seed(1)   \n",
    "if torch.cuda.is_available():\n",
    "    torch.cuda.manual_seed_all(1)\n",
    "    torch.backends.cudnn.deterministic = True\n",
    "    torch.backends.cudnn.benchmark = False"
   ]
  },
  {
   "cell_type": "code",
   "execution_count": 4,
   "metadata": {},
   "outputs": [
    {
     "name": "stdout",
     "output_type": "stream",
     "text": [
      "[0 0 0 0 0]\n",
      "Task prediction - Nh 2, Nk 5, lr 0.050 kappa 0.05, Nbasis 3\n"
     ]
    }
   ],
   "source": [
    "if digits_ == 2:\n",
    "    digits = [1,7]\n",
    "elif digits_ <= 10:\n",
    "    digits = [i for i in range(digits_)]\n",
    "else:\n",
    "    digits = [i for i in range(10)]\n",
    "\n",
    "dataset = r'../datasets/mnist-dvs/mnist_dvs_25ms_26pxl_10_digits_C_1.hdf5'\n",
    "data = tables.open_file(dataset)\n",
    "\n",
    "input_train_total = torch.FloatTensor(data.root.train.data[:])\n",
    "output_train_total = torch.FloatTensor(data.root.train.label[:])\n",
    "\n",
    "input_test_total = torch.FloatTensor(data.root.test.data[:])\n",
    "output_test_total = torch.FloatTensor(data.root.test.label[:])\n",
    "\n",
    "indices_train = np.hstack([np.where(np.argmax(np.sum(data.root.train.label[:], axis=(-1, -2)), axis=-1) == i)[0] for i in digits])\n",
    "input_train = input_train_total[indices_train]\n",
    "output_train = output_train_total[indices_train]\n",
    "output_train = output_train[:,digits]\n",
    "\n",
    "test_indices = np.hstack([np.where(np.argmax(np.sum(data.root.test.label[:], axis=(-1, -2)), axis=-1) == i)[0] for i in digits])\n",
    "input_test = input_test_total[test_indices]\n",
    "output_test = output_test_total[test_indices]\n",
    "output_test = output_test[:,digits]\n",
    " \n",
    "# for prediction\n",
    "if task == 'prediction':\n",
    "    input_train_old = input_train\n",
    "    input_test_old = input_test\n",
    "    img_size = int(np.sqrt(input_train.shape[1]))\n",
    "\n",
    "    input_idx = np.arange(input_train_old.shape[1]).reshape((img_size, img_size))[:,np.arange(int(img_size/2))].reshape(-1)\n",
    "    output_idx = np.arange(input_train_old.shape[1]).reshape((img_size, img_size))[:,int(img_size/2):].reshape(-1)\n",
    "\n",
    "    input_train = input_train_old[:, input_idx, :, :]\n",
    "    output_train = input_train_old[:, output_idx, :, :]\n",
    "    input_test = input_test_old[:, input_idx, :, :]\n",
    "    output_test = input_test_old[:, output_idx, :, :]\n",
    "    \n",
    "# Randomly select training/testing samples\n",
    "if train_indices_mode == 'single':\n",
    "    indices = np.random.choice(np.arange(1), [epochs], replace=True)\n",
    "elif train_indices_mode == 'multiple':\n",
    "    n_ref = int(epochs/len(digits))\n",
    "    list_ref = []\n",
    "    for i in range(len(digits)):\n",
    "        list_ref = np.append( list_ref, np.random.choice(np.arange( int(input_train.shape[0]/len(digits))*(i), int(input_train.shape[0]/len(digits))*(i)+5 ), [n_ref], replace=True) )\n",
    "    indices = np.random.permutation(list_ref)\n",
    "    #indices = np.random.permutation(np.append( np.random.choice(np.arange(5), [int(epochs/2)], replace=True), np.random.choice(np.arange(input_train.shape[0]/2, input_train.shape[0]/2+5), [int(epochs/2)], replace=True)  ))\n",
    "else:\n",
    "    if epochs > input_train.shape[0]:\n",
    "        indices = np.random.choice(np.arange(input_train.shape[0]), [epochs], replace=True)    \n",
    "    else:\n",
    "        indices = np.random.choice(np.arange(input_train.shape[0]), [epochs], replace=False)    \n",
    "\n",
    "if epochs_test > input_test.shape[0]:\n",
    "    test_indices = np.random.choice(np.arange(input_test.shape[0]), [epochs_test], replace=True)\n",
    "else:\n",
    "    test_indices = np.random.choice(np.arange(input_test.shape[0]), [epochs_test], replace=False)\n",
    "\n",
    "print(indices)\n",
    "\n",
    "print('Task %s - Nh %d, Nk %d, lr %4.3f kappa %3.2f, Nbasis %d' \\\n",
    "    %(task, n_hidden_neurons, num_samples, learning_rate, kappa, n_basis), flush=True)\n",
    "\n",
    "if mode_ == 'mb':\n",
    "    mode = 'train_ml_multi_elbo'\n",
    "elif mode_ == 'iw':\n",
    "    mode = 'train_ml_multi'\n",
    "elif mode_ == 'iwb':\n",
    "    mode = 'train_ml_multi_ls'\n",
    "elif mode_ == 'gem':\n",
    "    mode = 'train_ml_multi_nols'\n",
    "elif mode_ == 'mb1':\n",
    "    mode = 'train_ml'"
   ]
  },
  {
   "cell_type": "code",
   "execution_count": 5,
   "metadata": {},
   "outputs": [
    {
     "data": {
      "text/plain": [
       "108"
      ]
     },
     "execution_count": 5,
     "metadata": {},
     "output_type": "execute_result"
    }
   ],
   "source": [
    "results_path = 'results'\n",
    "hprof_file_list = get_hprofs_from_files(results_path)\n",
    "len(hprof_file_list)"
   ]
  },
  {
   "cell_type": "code",
   "execution_count": 6,
   "metadata": {},
   "outputs": [
    {
     "name": "stdout",
     "output_type": "stream",
     "text": [
      "Inference performance on training dataset\n",
      "done with get_inference_from_hprof\n",
      "done with get_inference_from_hprof\n",
      "done with get_inference_from_hprof\n",
      "done with get_inference_from_hprof\n",
      "done with get_inference_from_hprof\n",
      "loss_bound: t_80, -3994.651245 +- 86.477623\n",
      "loss_bound: t_160, -1700.401794 +- 11.172448\n",
      "loss_bound: t_240, -923.664948 +- 13.073067\n",
      "loss_bound: t_320, -566.973907 +- 0.896447\n",
      "loss_bound: t_400, -437.546738 +- 3.961263\n",
      " \n",
      "distance_avg: t_80, 0.112882 +- 0.000216\n",
      "distance_avg: t_160, 0.051114 +- 0.000133\n",
      "distance_avg: t_240, 0.033819 +- 0.000210\n",
      "distance_avg: t_320, 0.021797 +- 0.000133\n",
      "distance_avg: t_400, 0.016639 +- 0.000162\n",
      " \n"
     ]
    },
    {
     "data": {
      "image/png": "[encoded data removed]",
      "text/plain": [
       "<Figure size 518.4x345.6 with 4 Axes>"
      ]
     },
     "metadata": {
      "needs_background": "light"
     },
     "output_type": "display_data"
    },
    {
     "name": "stdout",
     "output_type": "stream",
     "text": [
      "Number of samples for inference: 5, time: 226.310642\n"
     ]
    }
   ],
   "source": [
    "print('Inference performance on training dataset', flush=True)\n",
    "t0 = time.time()\n",
    "get_inference_eval(hprof_file_list, sweep_t, inference_metrics, query_hprof_t, input_train[indices], output_train[indices], time_range)\n",
    "print('Number of samples for inference: %d, time: %f' % (epochs, time.time() - t0), flush=True)"
   ]
  },
  {
   "cell_type": "code",
   "execution_count": null,
   "metadata": {},
   "outputs": [],
   "source": []
  },
  {
   "cell_type": "code",
   "execution_count": null,
   "metadata": {},
   "outputs": [],
   "source": []
  },
  {
   "cell_type": "code",
   "execution_count": 7,
   "metadata": {},
   "outputs": [
    {
     "name": "stdout",
     "output_type": "stream",
     "text": [
      "loss_output_train: Nk_1, -461.691269 +- 14.745737\n",
      "loss_output_train: Nk_5, -418.709305 +- 4.531952\n",
      "spikenum_hid_train: Nk_1, 102.500000 +- 22.867833\n",
      "spikenum_hid_train: Nk_5, 403.500000 +- 312.527055\n"
     ]
    },
    {
     "data": {
      "image/png": "[encoded data removed]",
      "text/plain": [
       "<Figure size 518.4x345.6 with 4 Axes>"
      ]
     },
     "metadata": {
      "needs_background": "light"
     },
     "output_type": "display_data"
    },
    {
     "data": {
      "text/plain": [
       "0"
      ]
     },
     "execution_count": 7,
     "metadata": {},
     "output_type": "execute_result"
    }
   ],
   "source": [
    "metrics = ['loss_output_train', 'spikenum_hid_train']\n",
    "\n",
    "get_result(hprof_file_list, sweep_Nk, metrics, query_hprof_Nk, time_range)"
   ]
  },
  {
   "cell_type": "code",
   "execution_count": 8,
   "metadata": {},
   "outputs": [
    {
     "ename": "KeyError",
     "evalue": "'loss_output_test_f'",
     "output_type": "error",
     "traceback": [
      "\u001b[0;31m---------------------------------------------------------------------------\u001b[0m",
      "\u001b[0;31mKeyError\u001b[0m                                  Traceback (most recent call last)",
      "\u001b[0;32m<ipython-input-8-674eceac1653>\u001b[0m in \u001b[0;36m<module>\u001b[0;34m\u001b[0m\n\u001b[1;32m      1\u001b[0m \u001b[0mmetrics\u001b[0m \u001b[0;34m=\u001b[0m \u001b[0;34m[\u001b[0m\u001b[0;34m'loss_output_test_f'\u001b[0m\u001b[0;34m,\u001b[0m \u001b[0;34m'spikenum_hid_test_inference'\u001b[0m\u001b[0;34m]\u001b[0m\u001b[0;34m\u001b[0m\u001b[0m\n\u001b[1;32m      2\u001b[0m \u001b[0;34m\u001b[0m\u001b[0m\n\u001b[0;32m----> 3\u001b[0;31m \u001b[0mget_result\u001b[0m\u001b[0;34m(\u001b[0m\u001b[0mhprof_file_list\u001b[0m\u001b[0;34m,\u001b[0m \u001b[0msweep_Nk\u001b[0m\u001b[0;34m,\u001b[0m \u001b[0mmetrics\u001b[0m\u001b[0;34m,\u001b[0m \u001b[0mquery_hprof_t\u001b[0m\u001b[0;34m,\u001b[0m \u001b[0mtime_range\u001b[0m\u001b[0;34m)\u001b[0m\u001b[0;34m\u001b[0m\u001b[0m\n\u001b[0m",
      "\u001b[0;32m~/Google Drive/Research/simulations/workspace/temp-multivalued-snn/plot_snn/eval.py\u001b[0m in \u001b[0;36mget_result\u001b[0;34m(hp_list, sweep, metrics, input_hp, time_range)\u001b[0m\n\u001b[1;32m    128\u001b[0m         \u001b[0;32mif\u001b[0m \u001b[0mtarget_hprofs\u001b[0m \u001b[0;34m==\u001b[0m \u001b[0;32mNone\u001b[0m\u001b[0;34m:\u001b[0m\u001b[0;34m\u001b[0m\u001b[0m\n\u001b[1;32m    129\u001b[0m             \u001b[0;32mcontinue\u001b[0m\u001b[0;34m\u001b[0m\u001b[0m\n\u001b[0;32m--> 130\u001b[0;31m         \u001b[0mresults\u001b[0m\u001b[0;34m.\u001b[0m\u001b[0mappend\u001b[0m\u001b[0;34m(\u001b[0m\u001b[0mget_stats_from_hprof\u001b[0m\u001b[0;34m(\u001b[0m\u001b[0mtarget_hprofs\u001b[0m\u001b[0;34m,\u001b[0m \u001b[0mmetrics\u001b[0m\u001b[0;34m)\u001b[0m\u001b[0;34m)\u001b[0m\u001b[0;34m\u001b[0m\u001b[0m\n\u001b[0m\u001b[1;32m    131\u001b[0m         \u001b[0mlabel\u001b[0m\u001b[0;34m.\u001b[0m\u001b[0mappend\u001b[0m\u001b[0;34m(\u001b[0m\u001b[0msweep\u001b[0m\u001b[0;34m[\u001b[0m\u001b[0;34m'hyperparam'\u001b[0m\u001b[0;34m]\u001b[0m\u001b[0;34m+\u001b[0m\u001b[0;34m'_'\u001b[0m\u001b[0;34m+\u001b[0m\u001b[0mstr\u001b[0m\u001b[0;34m(\u001b[0m\u001b[0ms\u001b[0m\u001b[0;34m)\u001b[0m\u001b[0;34m)\u001b[0m\u001b[0;34m\u001b[0m\u001b[0m\n\u001b[1;32m    132\u001b[0m \u001b[0;34m\u001b[0m\u001b[0m\n",
      "\u001b[0;32m~/Google Drive/Research/simulations/workspace/temp-multivalued-snn/plot_snn/eval.py\u001b[0m in \u001b[0;36mget_stats_from_hprof\u001b[0;34m(hprofs, metrics)\u001b[0m\n\u001b[1;32m     90\u001b[0m         \u001b[0mload_data\u001b[0m \u001b[0;34m=\u001b[0m \u001b[0mtorch\u001b[0m\u001b[0;34m.\u001b[0m\u001b[0mload\u001b[0m\u001b[0;34m(\u001b[0m\u001b[0mh\u001b[0m\u001b[0;34m[\u001b[0m\u001b[0;34m'filename'\u001b[0m\u001b[0;34m]\u001b[0m\u001b[0;34m)\u001b[0m\u001b[0;34m\u001b[0m\u001b[0m\n\u001b[1;32m     91\u001b[0m         \u001b[0;32mfor\u001b[0m \u001b[0mm\u001b[0m \u001b[0;32min\u001b[0m \u001b[0mmetrics\u001b[0m\u001b[0;34m:\u001b[0m\u001b[0;34m\u001b[0m\u001b[0m\n\u001b[0;32m---> 92\u001b[0;31m             \u001b[0md\u001b[0m \u001b[0;34m=\u001b[0m \u001b[0mload_data\u001b[0m\u001b[0;34m[\u001b[0m\u001b[0mm\u001b[0m\u001b[0;34m]\u001b[0m\u001b[0;34m.\u001b[0m\u001b[0mnumpy\u001b[0m\u001b[0;34m(\u001b[0m\u001b[0;34m)\u001b[0m  \u001b[0;31m# TODO\u001b[0m\u001b[0;34m\u001b[0m\u001b[0m\n\u001b[0m\u001b[1;32m     93\u001b[0m \u001b[0;34m\u001b[0m\u001b[0m\n\u001b[1;32m     94\u001b[0m             \u001b[0;32mif\u001b[0m \u001b[0mi\u001b[0m \u001b[0;34m==\u001b[0m \u001b[0;36m0\u001b[0m\u001b[0;34m:\u001b[0m\u001b[0;34m\u001b[0m\u001b[0m\n",
      "\u001b[0;31mKeyError\u001b[0m: 'loss_output_test_f'"
     ]
    }
   ],
   "source": [
    "metrics = ['loss_output_test_f', 'spikenum_hid_test_inference']\n",
    "\n",
    "get_result(hprof_file_list, sweep_Nk, metrics, query_hprof_t, time_range)"
   ]
  },
  {
   "cell_type": "code",
   "execution_count": null,
   "metadata": {},
   "outputs": [],
   "source": []
  },
  {
   "cell_type": "code",
   "execution_count": null,
   "metadata": {},
   "outputs": [],
   "source": []
  },
  {
   "cell_type": "code",
   "execution_count": null,
   "metadata": {},
   "outputs": [],
   "source": []
  },
  {
   "cell_type": "code",
   "execution_count": null,
   "metadata": {},
   "outputs": [],
   "source": []
  }
 ],
 "metadata": {
  "kernelspec": {
   "display_name": "Python 3.7.0 64-bit ('snn': virtualenv)",
   "language": "python",
   "name": "python37064bitsnnvirtualenv1dd9e5d3c45449ec8c1823fe99e62c12"
  },
  "language_info": {
   "codemirror_mode": {
    "name": "ipython",
    "version": 3
   },
   "file_extension": ".py",
   "mimetype": "text/x-python",
   "name": "python",
   "nbconvert_exporter": "python",
   "pygments_lexer": "ipython3",
   "version": "3.7.0"
  }
 },
 "nbformat": 4,
 "nbformat_minor": 2
}
